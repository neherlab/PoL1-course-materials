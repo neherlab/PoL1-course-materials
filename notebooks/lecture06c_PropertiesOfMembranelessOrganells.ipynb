{
 "cells": [
  {
   "cell_type": "markdown",
   "metadata": {},
   "source": [
    "# How are condensates formed in Biology?\n",
    "\n",
    " * requires multivalent interactions.\n",
    "   - univalent entities can only from dimers\n",
    "   - divalent entities can only form chain\n",
    "   - trivalent and more can form networks and extended structures\n",
    " * need to be dynamic and reversible\n",
    " \n",
    "  \n"
   ]
  },
  {
   "attachments": {},
   "cell_type": "markdown",
   "metadata": {},
   "source": [
    "![image.png](figures/condensate_review.png)\n",
    "\n",
    "Modes of multivalent interactions in different types of cytosolic droplets. Figure from Brangwynne et al. [2015]."
   ]
  },
  {
   "cell_type": "markdown",
   "metadata": {},
   "source": [
    " * intrinsically disordered regions of proteins that often contain repetitive linear motives that interact with each other or RNA\n",
    " * RNA can serve as a scaffinteractionsold that is cross-linked many times by proteins with 2 or more RNA binding domains.\n",
    " * polymers such as RNA contribute to condensates with a reduced entropic penalty as monomers are bound together already.\n",
    " * interactions are often weak and transient"
   ]
  },
  {
   "cell_type": "markdown",
   "metadata": {},
   "source": [
    "The function of membraneless organelles continues to be poorly characterized, but several plausible hypotheses exist:\n",
    "  * **micro-reactors**: Droplets are greatly enriched for particular sets of proteins and RNAs. Hence specific reactions between these components are expected to be much faster in such droplets compared their speed if components were randomly distributed in the cytosol.\n",
    "  * **garbage dumps**: uncontrolled protein aggregation is dangerous. Hence droplets could represent a controlled way to absorb excess material that would otherwise be prone to uncontrolled aggregation. Similar, the droplets could serve to sequester harmful (damaged, misfolded, etc) proteins.\n",
    "  * **storage**: Membraneless organelles could be used for RNA storage that would be ready for transcription and/or modification when the conditions change.\n",
    "\n",
    "More research is required to uncover the roles of such organelles, but compartmentalization is a very common theme in cell biology, so there is every reason to assume these might have functions. "
   ]
  },
  {
   "cell_type": "markdown",
   "metadata": {},
   "source": [
    "### Tuning to criticality\n",
    "\n",
    "Large condensates would be bad:\n",
    "  * low exchange with the rest of the cell\n",
    "  * essentially just a dead blob\n",
    "  \n",
    "Somehow, the cytosol is tuned such that condensates form transiently, but never grow big. \n",
    "How this works is not well understood. "
   ]
  },
  {
   "cell_type": "markdown",
   "metadata": {},
   "source": [
    "### Dig deeper\n",
    "\n",
    " * Mike Rosen discusses organizational principle at the micron scale in cell in [this video](https://youtu.be/E2jGNmlydSw) (youtu.be/E2jGNmlydSw)"
   ]
  },
  {
   "cell_type": "code",
   "execution_count": null,
   "metadata": {},
   "outputs": [],
   "source": []
  }
 ],
 "metadata": {
  "kernelspec": {
   "display_name": "Python 3 (ipykernel)",
   "language": "python",
   "name": "python3"
  },
  "language_info": {
   "codemirror_mode": {
    "name": "ipython",
    "version": 3
   },
   "file_extension": ".py",
   "mimetype": "text/x-python",
   "name": "python",
   "nbconvert_exporter": "python",
   "pygments_lexer": "ipython3",
   "version": "3.12.1"
  }
 },
 "nbformat": 4,
 "nbformat_minor": 4
}
