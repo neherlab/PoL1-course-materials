{
 "cells": [
  {
   "cell_type": "code",
   "execution_count": 2,
   "metadata": {},
   "outputs": [],
   "source": [
    "import matplotlib.pyplot as plt\n",
    "import numpy as np"
   ]
  },
  {
   "attachments": {},
   "cell_type": "markdown",
   "metadata": {},
   "source": [
    "# Volumes\n",
    "\n",
    "In the previous notebook we explored the range of linear dimensions of chemical or biological entities. Linear dimensions are important for some problems, for example transport, but for other aspects volumes and concentrations are what matters. \n",
    "![image.png](figures/volume.png)"
   ]
  },
  {
   "cell_type": "markdown",
   "metadata": {},
   "source": [
    "Volumes vary even more dramatically then linear dimensions:"
   ]
  },
  {
   "cell_type": "code",
   "execution_count": 3,
   "metadata": {},
   "outputs": [
    {
     "name": "stdout",
     "output_type": "stream",
     "text": [
      "Approximate volume of H2O 7.70e-30 m^3\n",
      "Approximate volume of glucose 3.82e-28 m^3\n",
      "Approximate volume of ribosome 8.18e-24 m^3\n",
      "Approximate volume of RNA virus 5.24e-22 m^3\n",
      "Approximate volume of bacterium 5.24e-19 m^3\n",
      "Approximate volume of budding yeast 6.54e-17 m^3\n",
      "Approximate volume of mammalian cell 5.24e-16 m^3\n",
      "Approximate volume of human ooctyte 5.24e-13 m^3\n",
      "Approximate volume of fruit fly egg 6.54e-11 m^3\n",
      "Approximate volume of chicken egg 6.54e-05 m^3\n"
     ]
    }
   ],
   "source": [
    "diameters = {  # in meters\n",
    "    \"H2O\": 2.45e-10,\n",
    "    \"glucose\": 9e-10,\n",
    "    \"ribosome\": 2.5e-8,\n",
    "    \"RNA virus\": 1e-7,\n",
    "    \"bacterium\": 1e-6,\n",
    "    \"budding yeast\": 5e-6,\n",
    "    \"mammalian cell\": 1e-5,\n",
    "    \"human ooctyte\": 1e-4,\n",
    "    \"fruit fly egg\": 5e-4,\n",
    "    \"chicken egg\":5e-2,\n",
    "}\n",
    "\n",
    "def sphere_volume(d):\n",
    "    return 4*np.pi/3*(d/2)**3\n",
    "\n",
    "for k,d in diameters.items():\n",
    "    v = sphere_volume(d)\n",
    "    print(f\"Approximate volume of {k} {v:1.2e} m^3\")"
   ]
  },
  {
   "cell_type": "markdown",
   "metadata": {},
   "source": [
    "Cubic meter is not the most intuitive unit, so lets convert this to liters:"
   ]
  },
  {
   "cell_type": "code",
   "execution_count": 4,
   "metadata": {},
   "outputs": [
    {
     "name": "stdout",
     "output_type": "stream",
     "text": [
      "Volume of H2O 7.70e-27 liters\n",
      "Volume of glucose 3.82e-25 liters\n",
      "Volume of ribosome 8.18e-21 liters\n",
      "Volume of RNA virus 5.24e-19 liters\n",
      "Volume of bacterium 5.24e-16 liters\n",
      "Volume of budding yeast 6.54e-14 liters\n",
      "Volume of mammalian cell 5.24e-13 liters\n",
      "Volume of human ooctyte 5.24e-10 liters\n",
      "Volume of fruit fly egg 6.54e-08 liters\n",
      "Volume of chicken egg 6.54e-02 liters\n"
     ]
    }
   ],
   "source": [
    "# define a new dictionary with volumes in liters\n",
    "volumes_liters = {k:sphere_volume(r)*1000 for k,r in diameters.items()}\n",
    "\n",
    "for k,v in volumes_liters.items():\n",
    "    print(f\"Volume of {k} {v:1.2e} liters\")"
   ]
  },
  {
   "cell_type": "markdown",
   "metadata": {},
   "source": [
    "From viruses to eggs, these volumes range from $10^{-18}$ liters (one atto-liter) to 0.06 liters. \n"
   ]
  },
  {
   "attachments": {},
   "cell_type": "markdown",
   "metadata": {},
   "source": [
    "## Concentrations\n",
    "\n",
    "Chemistry depends on concentrations and concentrations are have units \"stuff/volume\". Typically the unit we use in chemistry is \"molar\", this is number of moles per liter. \n",
    "\n",
    "$$\n",
    "1M = \\frac{N_A \\mathrm{molecules}}{\\mathrm{liter}} = \\frac{6\\times 10^{23}\\mathrm{molecules}}{\\mathrm{liter}}\n",
    "$$\n",
    "\n",
    "Important concentration in biological systems are:\n",
    "\n",
    "\n",
    "![image.png](figures/PBOC_concentrations.png)\n",
    "source: Biology by the Numbers.\n",
    "\n"
   ]
  },
  {
   "cell_type": "markdown",
   "metadata": {},
   "source": [
    "## One nM is roughly 1 molecule per E. Coli\n",
    "\n",
    " * bacterial volume: $10^{-15} l = 1 fl$\n",
    " * one nM: $6\\times 10^{14} \\mathrm{molecules/liter}$\n",
    " * multiply: $6\\times 10^{14} \\mathrm{molecules/liter} \\times 10^{-15} \\mathrm{liter} \\approx 0.6 \\mathrm{molecules}$\n",
    " \n",
    "Concentrations in the nM range therefore correspond to small absolute numbers of molecules. This is critical since when numbers are small, the dynamics starts to be inherently stochastic. This is particularly important for signaling molecules and we will discuss these stochastic effects at greater length below. "
   ]
  },
  {
   "cell_type": "markdown",
   "metadata": {
    "tags": []
   },
   "source": [
    "## The power of simple \"Guestimation\"\n",
    "Having a rough idea of how big things are, allows us to estimate some important quantities at least to an order of magnitude. For example...\n",
    "\n",
    "### Number of cells in the human body\n",
    "\n",
    " * Volume of a human: 80 liter $\\Rightarrow$ 100 liters for simplicity\n",
    " * Volume of a human cell: $5\\times 10^{-13}$ liters\n",
    " * Rough estimates of the number of cells: $2\\times 10^{14}$\n",
    " \n",
    "This answer is a little bit two high ($3\\times 10^{13}$ is what is often given), probably because the average human cell is a little bigger. But not so terrible!"
   ]
  },
  {
   "cell_type": "markdown",
   "metadata": {
    "tags": []
   },
   "source": [
    "### Number of bacteria in a human\n",
    "\n",
    " * most bacteria live in your gut. \n",
    " * the gut content is about 1-2kg, a few percent of which are bacteria\n",
    " * a bacterium is $1fl = 10^{-15}$liters.\n",
    " * Rough guess: $0.1l/10^{-15}l = 10^{14}$ bacterial cells. \n",
    "\n",
    "Again, this is correct within a factor of 10. \n"
   ]
  },
  {
   "cell_type": "markdown",
   "metadata": {
    "tags": []
   },
   "source": [
    "### Burst sizes of bacterial vs mammalian viruses\n",
    "\n",
    " * bacterial viruses (phages) and mammalian viruses have roughly the same size: $10^{-19}$liters\n",
    " * The volume ratio of phage to bacteria is roughly 10000\n",
    " * The volume ratio of virus to mammalian is roughly $10^6$\n",
    " * Hence we expect phage burst sizes to be small (not larger than 100) and those of mammalian viruses around a factor of 100 larger. \n",
    "  \n",
    "This again is roughly correct. "
   ]
  },
  {
   "cell_type": "markdown",
   "metadata": {},
   "source": [
    "### Knowing when things don't add up\n",
    "While fun and useful to guess numbers, it is often much more important to know when something just doesn't make any sense. Such claims are surpringly common\n",
    "\n",
    " * [Markus Meister points out](https://elifesciences.org/articles/17210) that individual proteins claimed to sense magnetic fields just can't work.\n",
    " * A claim that mitochondria run at 50C should probably [not be taken to seriously](https://journals.plos.org/plosbiology/article?id=10.1371/journal.pbio.2005113)."
   ]
  },
  {
   "cell_type": "markdown",
   "metadata": {},
   "source": [
    "## Additional resources:\n",
    "\n",
    " * [Biology by the Numbers](https://www.dropbox.com/s/gvpleqtcv8scro4/cellBiologyByTheNumbersJuly2015.pdf?dl=1) by Milo and Phillips, Chapter 2"
   ]
  },
  {
   "cell_type": "code",
   "execution_count": null,
   "metadata": {},
   "outputs": [],
   "source": []
  }
 ],
 "metadata": {
  "kernelspec": {
   "display_name": "Python 3 (ipykernel)",
   "language": "python",
   "name": "python3"
  },
  "language_info": {
   "codemirror_mode": {
    "name": "ipython",
    "version": 3
   },
   "file_extension": ".py",
   "mimetype": "text/x-python",
   "name": "python",
   "nbconvert_exporter": "python",
   "pygments_lexer": "ipython3",
   "version": "3.12.1"
  }
 },
 "nbformat": 4,
 "nbformat_minor": 4
}
