{
 "cells": [
  {
   "cell_type": "markdown",
   "metadata": {},
   "source": [
    "## Genome sizes\n",
    "Another interesting set of numbers with a huge range are the sizes of genomes. "
   ]
  },
  {
   "cell_type": "code",
   "execution_count": 3,
   "metadata": {},
   "outputs": [],
   "source": [
    "genome_sizes = {\n",
    "'viroid': 3e2,    # (one tweet)\n",
    "'RNA_virus': 1e4, # typical RNA viruses and phages (one page)\n",
    "'DNA_virus': 1e5, # animal DNA viruses (10 pages)\n",
    "'bacteria': 5e6,  # bacterial genome (a serious book)\n",
    "'human': 3e9      # haploid human genome (one tenth of all of English wikipedia)\n",
    "}"
   ]
  },
  {
   "cell_type": "markdown",
   "metadata": {},
   "source": [
    "As double stranded DNA, each base pair has a diameter of about 2nm and a height of 0.34nm. We can now readily estimate how long the total genome of these entities is:"
   ]
  },
  {
   "cell_type": "code",
   "execution_count": 4,
   "metadata": {},
   "outputs": [
    {
     "name": "stdout",
     "output_type": "stream",
     "text": [
      "viroid genome length: 1.020e-01um\n",
      "RNA_virus genome length: 3.400e+00um\n",
      "DNA_virus genome length: 3.400e+01um\n",
      "bacteria genome length: 1.700e+03um\n",
      "human genome length: 1.020e+06um\n"
     ]
    }
   ],
   "source": [
    "for k,v in genome_sizes.items():\n",
    "    print(f\"{k} genome length: {v*0.00034:1.3e}um\")"
   ]
  },
  {
   "cell_type": "markdown",
   "metadata": {},
   "source": [
    "The typical diploid human cell therefore contains about 2m of DNA, the typical bacterium about 2mm. These lengths are much longer than the linear dimensions of the cells."
   ]
  },
  {
   "attachments": {},
   "cell_type": "markdown",
   "metadata": {},
   "source": [
    "Cartoons you often see of DNA loosly floating around in cells are therefore very misleading. The genome of a bacterium goes about 1000 times back and forth across the cell.\n",
    "\n",
    "![image.png](figures/ecoli_genome.png)\n",
    "\n",
    "**Left:** a typical cartoon suggesting the length of a bacterial chromosome is similar to the length of the cell. Image source: [kissclipart](https://www.kissclipart.com/bacterial-genome-clipart-plasmid-genome-bacteria-dt3adi/).\n",
    "\t**Right:** The DNA from an actual E.~coli cell that was lysed (the blob in the middle). A bacterial chromosome of length $5\\times 10^6$bps is about 1.5mm long -- roughly 1000-fold the length of the cell.  Clearly, the DNA has to be pretty tightly packed inside the cell. Image source: [R. Kavanoff](https://www.nature.com/scitable/content/supercoiled-chromosome-of-e-coli-44517/)"
   ]
  },
  {
   "cell_type": "markdown",
   "metadata": {},
   "source": [
    "## How fast is a DNA polymerase?\n",
    "To estimate this, we need\n",
    " * the division time of the cell\n",
    " * the genome size\n",
    " * the number of origins of replication\n",
    " \n",
    "Let's assume a single origin and typical bacterium with genome size $L = 5\\times 10^{6}$ and a division time of $\\tau = 2500s \\approx 40min$. At the origin, replication forks run off in both directions leaving $L/2$ for each fork. The polymerisation rate should naively be\n",
    "\n",
    "$$\n",
    "\\kappa = \\frac{L}{2\\tau} = \\frac{5\\times 10^{6}}{5000s} = 1000/s\n",
    "$$\n",
    "\n",
    "This estimate is more or less correct, but about a factor of 3 too high. The underlying reason is that rapidly dividing cells start replicating their daughters DNA before dividing. But overall, this estimate gave as a pretty idea of the rate. "
   ]
  },
  {
   "cell_type": "markdown",
   "metadata": {},
   "source": [
    "### Dig deeper:\n",
    " * If the human genome had one origin of replication, how long would it take? How long would it take to replicate the largest chromosome if there was one origin per chromosome?\n",
    " * What is your guess for the number of replication origins in the human genome?"
   ]
  },
  {
   "cell_type": "code",
   "execution_count": null,
   "metadata": {},
   "outputs": [],
   "source": []
  },
  {
   "cell_type": "code",
   "execution_count": null,
   "metadata": {},
   "outputs": [],
   "source": []
  }
 ],
 "metadata": {
  "kernelspec": {
   "display_name": "Python 3 (ipykernel)",
   "language": "python",
   "name": "python3"
  },
  "language_info": {
   "codemirror_mode": {
    "name": "ipython",
    "version": 3
   },
   "file_extension": ".py",
   "mimetype": "text/x-python",
   "name": "python",
   "nbconvert_exporter": "python",
   "pygments_lexer": "ipython3",
   "version": "3.12.1"
  }
 },
 "nbformat": 4,
 "nbformat_minor": 4
}
