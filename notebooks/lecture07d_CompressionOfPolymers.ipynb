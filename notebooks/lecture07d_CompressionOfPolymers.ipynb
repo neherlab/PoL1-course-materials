{
 "cells": [
  {
   "attachments": {},
   "cell_type": "markdown",
   "metadata": {},
   "source": [
    "### Compressing polymers\n",
    "\n",
    "In the previous chapter, we analyzed the behavior of floppy polymers under tension. We will now turn to stiff polymers when compressed. \n",
    "\n",
    "![image.png](figures/buckling.png)\n",
    "\n",
    "Micrographs from [Brangwynne et al](http://jcb.rupress.org/content/173/5/733)"
   ]
  },
  {
   "cell_type": "markdown",
   "metadata": {},
   "source": [
    "### Buckling instability\n",
    "\n",
    "If you compress the ends of an elastic rod, it will resist the force until at some point it starts to collapse rapidly.\n",
    "This is called __buckling__. In fact, there is a critical force beyond which a beam will collapse and we want to calculate this buckling force now.\n"
   ]
  },
  {
   "attachments": {},
   "cell_type": "markdown",
   "metadata": {},
   "source": [
    "To do so, we need to compare the energy that is required for bending the beam to the energy that is gained by giving in to the applied force. To calculate the bending energy and the load energy, consider this configuration:\n",
    "\n",
    "![image.png](figures/buckling_approx.png)\n",
    "\n",
    "The bending energy given a curvature radius $R$ and a stiffness $\\kappa$ is given by\n",
    "$$\n",
    "E_{bend} = \\frac{kL}{2R^2}\n",
    "$$\n",
    "The work done by the applied force is $\\Delta x F$ is \n",
    "$$\n",
    "F\\Delta x = F\\left(L - 2R\\sin(\\frac{\\theta}{2})\\right) = F\\left(L - 2R\\sin(\\frac{L}{2R})\\right)\n",
    "$$"
   ]
  },
  {
   "cell_type": "markdown",
   "metadata": {},
   "source": [
    "We are most interested in the case of $\\theta\\ll 1$, $R\\gg L$ when the curvature is still very small. Here, we can use the fact that for $x\\ll1$ we have $\\sin(x) \\approx x - \\frac{x^3}{6}$\n",
    "$$\n",
    "F\\Delta x = F\\left(L - L + \\frac{L^3}{24R^2}\\right) = \\frac{FL^3}{24R^2}\n",
    "$$"
   ]
  },
  {
   "cell_type": "markdown",
   "metadata": {},
   "source": [
    "Combining these two, we have\n",
    "\n",
    "$$\n",
    "E_{total} = E_{bend} - E_{load} = \\frac{kL}{2R^2} - \\frac{FL^3}{24R^2} = \\frac{L}{2R^2}\\left( \\kappa - \\frac{FL^2}{12}\\right)\n",
    "$$\n",
    "\n",
    "For $F<\\frac{12\\kappa}{L^2}$, this energy decreases with decreasing curvature (greater $R$) while it decreases with increasing curvature otherwise. For $F>\\frac{12\\kappa}{L^2}$, the rod will spontaneously collapse."
   ]
  },
  {
   "cell_type": "markdown",
   "metadata": {},
   "source": [
    "This critical force is known as Euler's buckling instability:\n",
    "$$\n",
    "F_c \\approx \\frac{12\\kappa}{L^2}\n",
    "$$\n",
    "(a more careful calculation not assuming that the bent rod is an arc segment would have given the correct answer $F_c = \\frac{\\pi^2\\kappa}{L^2}$). \n",
    "The important observation is that longer polymers are much more prone to buckling and that the critical force depends on the square of the length. \n",
    "\n"
   ]
  },
  {
   "cell_type": "markdown",
   "metadata": {},
   "source": [
    "Let's look at a few examples. Microtubules have a persistence length of $l_p = 1.4mm = \\kappa/kT$. Using our usual rule of thumb $kT = 4pN\\; nm$ we calculate that for a microtuble of $\\mu m$ in length we have\n",
    "\n",
    "$$\n",
    "F_c \\approx \\frac{12\\times 1.4 mm \\times 4pN \\; nm}{\\mu m^2} = 67pN\n",
    "$$"
   ]
  },
  {
   "cell_type": "markdown",
   "metadata": {},
   "source": []
  },
  {
   "cell_type": "code",
   "execution_count": null,
   "metadata": {},
   "outputs": [],
   "source": []
  }
 ],
 "metadata": {
  "kernelspec": {
   "display_name": "Python 3 (ipykernel)",
   "language": "python",
   "name": "python3"
  },
  "language_info": {
   "codemirror_mode": {
    "name": "ipython",
    "version": 3
   },
   "file_extension": ".py",
   "mimetype": "text/x-python",
   "name": "python",
   "nbconvert_exporter": "python",
   "pygments_lexer": "ipython3",
   "version": "3.12.1"
  }
 },
 "nbformat": 4,
 "nbformat_minor": 4
}
