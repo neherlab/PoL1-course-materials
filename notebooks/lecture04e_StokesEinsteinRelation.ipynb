{
 "cells": [
  {
   "cell_type": "markdown",
   "metadata": {},
   "source": [
    "# Stokes-Einstein relation\n",
    "\n",
    "What determines diffusion constants?\n",
    "\n",
    " * size: The bigger, the slower $\\rightarrow$ radius [length] \n",
    " * temperature: The hotter the faster $\\rightarrow$ kT [energy] \n",
    " * medium: What properties of the medium might matter?"
   ]
  },
  {
   "attachments": {},
   "cell_type": "markdown",
   "metadata": {},
   "source": [
    "### Viscosity\n",
    "\n",
    "Particles diffuse more slowly in more viscous medium, e.g. honey compared to water. So what exactly is viscosity? If you are curious, read up on [viscosity on wikipedia](https://en.wikipedia.org/wiki/Viscosity#Simple_definition).\n",
    "\n",
    "![image.png](figures/friction.png)\n",
    "\n",
    "$$\n",
    "F \\sim \\frac{Av}{d}  \\quad \\Rightarrow \\quad F  = \\eta \\frac{Av}{d}\n",
    "$$\n",
    "\n",
    "Viscosity $\\eta$ is the proportionality constant linking movement of molecules to frictional force.\n",
    "\n",
    "Viscosity has dimension \n",
    "\n",
    "$$\n",
    "[\\eta] = \\left[ \\frac{Fd}{Av}\\right] = \\frac{energy \\times time}{volume} = \\frac{force \\times time}{area}\n",
    "$$\n",
    "\n",
    "Viscosity is typically measured in $N s/m^2$ and relevant values for us are\n",
    "\n",
    " * water: $0.001 \\frac{Ns}{m^2}$\n",
    " * cytosol: $0.003 \\frac{Ns}{m^2}$\n",
    " \n",
    "\n"
   ]
  },
  {
   "cell_type": "markdown",
   "metadata": {},
   "source": [
    "Coming back to our quest of understanding diffusion constants:\n",
    "\n",
    " * size: The bigger, the slower $\\rightarrow$ radius [length] \n",
    " * temperature: The hotter the faster $\\rightarrow$ kT [energy] \n",
    " * viscosity: [energy time/volume]\n",
    "\n",
    "Diffusion constants have dimension [area/time]. How do you combine the above to obtain this dimension?\n",
    "\n",
    "<font color=orange size=5>\n",
    "$$\n",
    "D\\sim \\frac{kT}{r \\eta}\n",
    "$$\n",
    "</font>\n",
    "\n",
    "Dimensional analysis suggests that $kT$, $r$, and $\\eta$ should combine as above. And this is the correct answer up to a numerical prefactor. \n",
    "Careful calculation yields the [**Stokes-Einstein relation**](https://en.wikipedia.org/wiki/Einstein_relation_(kinetic_theory)#Stokes%E2%80%93Einstein_equation):\n",
    "\n",
    "<font color=orange size=5>\n",
    "$$\n",
    "D = \\frac{kT}{6\\pi r \\eta}\n",
    "$$\n",
    "</font>\n",
    "\n",
    "    "
   ]
  },
  {
   "cell_type": "markdown",
   "metadata": {},
   "source": [
    "The remarkable fact about this equation is that combines **macroscopic** quantities like viscosity and temperature to make predictions about a **microscopic** quantity, namely the diffusion constant of a molecule. "
   ]
  },
  {
   "cell_type": "markdown",
   "metadata": {},
   "source": [
    "## Rule of thumb\n",
    "\n",
    "We will typically deal with temperatures around $300$K (room temperature, $kT\\approx 4pN \\times nm$) and are interested in the biological questions such that $\\eta \\approx 0.003 Ns/m^2$:\n",
    "\n",
    "$$\n",
    "D = \\frac{4pN\\times nm}{6\\pi 0.003 Ns/m^2} \\frac{1}{r} \\approx \\frac{\\mu m^3}{15s}\\frac{1}{r} \n",
    "$$\n",
    "\n",
    "We can use this rule of thumb to estimate diffusion coefficients of objects in cells. For a protein with radius 3nm, for example, we obtain $D\\approx 20 \\mu m^2/s$."
   ]
  },
  {
   "cell_type": "markdown",
   "metadata": {},
   "source": [
    "### Dig deeper\n",
    "\n",
    " * Look up the viscosity of honey! How smaller would diffusion be? How long would it take a protein to diffuse $10\\mu m$ in honey?\n",
    " * How well do the diffusion constants we discussed in previous lectures conform with the Stokes-Einstein relation?"
   ]
  },
  {
   "cell_type": "code",
   "execution_count": null,
   "metadata": {},
   "outputs": [],
   "source": []
  },
  {
   "cell_type": "code",
   "execution_count": null,
   "metadata": {},
   "outputs": [],
   "source": []
  },
  {
   "cell_type": "code",
   "execution_count": null,
   "metadata": {},
   "outputs": [],
   "source": []
  }
 ],
 "metadata": {
  "kernelspec": {
   "display_name": "Python 3 (ipykernel)",
   "language": "python",
   "name": "python3"
  },
  "language_info": {
   "codemirror_mode": {
    "name": "ipython",
    "version": 3
   },
   "file_extension": ".py",
   "mimetype": "text/x-python",
   "name": "python",
   "nbconvert_exporter": "python",
   "pygments_lexer": "ipython3",
   "version": "3.12.1"
  }
 },
 "nbformat": 4,
 "nbformat_minor": 4
}
