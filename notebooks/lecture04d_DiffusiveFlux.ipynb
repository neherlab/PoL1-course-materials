{
 "cells": [
  {
   "cell_type": "markdown",
   "metadata": {},
   "source": [
    "# Transport by diffusion\n",
    "\n",
    "#### What are typical values of diffusion coefficients?\n",
    "\n",
    " * GFP in eukaryotic cells: $\\sim 25 \\mu m^2/s$\n",
    " * GFP in prokaryotic cells: $\\sim 10 \\mu m^2/s$\n",
    " * mRNA (actin in mouse): $\\sim 0.2 \\mu m^2/s$\n",
    " * $\\mathrm{H_2O}$ molecule in $\\mathrm{H_2O}$: $\\sim 2000 \\mu m^2/s$\n",
    " * $\\mathrm{H^+}$ molecule in $\\mathrm{H_2O}$: $\\sim 7000 \\mu m^2/s$"
   ]
  },
  {
   "attachments": {},
   "cell_type": "markdown",
   "metadata": {},
   "source": [
    "#### How long does it take for a protein to diffuse distance $\\Delta x$?\n",
    "![image.png](figures/diffusion_gaussian.png)\n",
    "After time $t$, a particle has typically moved a distance of the standard deviation $\\Delta x \\sim \\sigma$.\n",
    "\n",
    "$$\n",
    "\\Delta x = \\sqrt{2Dt} \\quad \\Rightarrow \\quad t = \\frac{\\Delta x^2}{2D}\n",
    "$$"
   ]
  },
  {
   "cell_type": "markdown",
   "metadata": {},
   "source": [
    "For a typical $D=10\\mu m^2/s$, we thus except:\n",
    " * across a bacterium: $\\Delta x = 1\\mu m$: $t = 0.05s$\n",
    " * across a eukaryotic cell: $\\Delta x = 10\\mu m$: $t = 5s$\n",
    " * one millimeter: $\\Delta x = 1000\\mu m$: $t = 50000s=830m=14h$\n",
    " * along a peripheral axon: $\\Delta x = 1m$: $t = 5\\times 10^{10}s=1600y$\n",
    "\n",
    "Hence diffusion is fast on short distances, but completely inadequate on long distances."
   ]
  },
  {
   "cell_type": "markdown",
   "metadata": {},
   "source": [
    "### Interpretation as concentrations\n",
    "\n",
    "So far: $P(x,t)$ described the probability of finding a randomly moving particle at position $x$ after time $t$.\n",
    "\n",
    "Alternative: $P(x,t)$ can be interpreted as a concentration, describing the density of many molecules that move by diffusion. "
   ]
  },
  {
   "attachments": {},
   "cell_type": "markdown",
   "metadata": {},
   "source": [
    "### Diffusive flux\n",
    "Above, we asked how long it takes for a single protein to move a distance $\\Delta x$ in an arbitrary direction. When there are many molecules and concentration differences, such undirected motion can result in macroscopic fluxes. \n",
    "\n",
    "Consider the following situation that might arise across a membrane pore:\n",
    "![image.png](figures/diffusion_pore_flux.png)"
   ]
  },
  {
   "cell_type": "markdown",
   "metadata": {},
   "source": [
    "It is intuitive that in this situation, diffusion will equilibrate the concentrations on the two ends of the pore, resulting in a net-flux from left to right. "
   ]
  },
  {
   "attachments": {},
   "cell_type": "markdown",
   "metadata": {
    "tags": []
   },
   "source": [
    "### Fick's law and flux\n",
    "\n",
    "According to the above intuition, we expect a net flux from regions with high to low concentrations. Let's look at how much moves from $x$ to $x+\\delta x$ in a discretized version:\n",
    "![image.png](figures/diffusion_local_flux.png)"
   ]
  },
  {
   "cell_type": "markdown",
   "metadata": {
    "tags": []
   },
   "source": [
    "Here, we assume $v=0$ (no directed transport) such that \n",
    "\n",
    "$$\n",
    "r = l = \\frac{D}{\\delta x^2}\n",
    "$$\n",
    "\n",
    "Now the net amount that moves from $x$ to $x+\\delta x$ is\n",
    "\n",
    "$$\n",
    "r\\Delta t P(x,t)\\delta x - l\\Delta t P(x+\\delta x,t)\\delta x = \\frac{D\\Delta t}{\\delta x} \\left[P(x,t) - P(x+\\delta x,t)\\right]\n",
    "$$"
   ]
  },
  {
   "cell_type": "markdown",
   "metadata": {
    "tags": []
   },
   "source": [
    "Since we have\n",
    "\n",
    "$$\n",
    " \\frac{P(x,t) - P(x+\\delta x,t)}{\\delta x} \\to \\frac{\\partial P(x,t)}{\\partial x}\n",
    "$$\n",
    "\n",
    "The expression above reduces to\n",
    "\n",
    "$$\n",
    "j(x,t)\\Delta t = -D\\Delta t \\frac{\\partial P(x,t)}{\\partial x}\n",
    "$$"
   ]
  },
  {
   "cell_type": "markdown",
   "metadata": {},
   "source": [
    "This defines the diffusive flux\n",
    "\n",
    "<font color=orange size=5>\n",
    "    $$\n",
    "    j(x,t) = -D \\frac{\\partial P(x,t)}{\\partial x}\n",
    "    $$\n",
    "</font>\n",
    "\n",
    "This result, known as **Fick's law**, is intuitive: The net flux of particles is proportional to $D$ and the slope of $P(x,t)$. "
   ]
  },
  {
   "cell_type": "markdown",
   "metadata": {},
   "source": [
    "### Flux through a pore\n",
    "\n",
    "Above we derived that the diffusive flux is proportional to $D$ and the slope of the concentration profile. To calculate the flux through a pore, we therefore need to determine how $P(x,t)$ varies across the pore."
   ]
  },
  {
   "cell_type": "markdown",
   "metadata": {},
   "source": [
    "If the pore is narrow and the volumes left and right are large, we expect this process to take a long time with an approximately constant concentration profile across the pore. A constant profile corresponds to a zero time-derivative:\n",
    "\n",
    "$$\n",
    "\\frac{\\partial P(x,t)}{\\partial t} = 0 = D\\frac{\\partial^2P(x,t)}{\\partial x^2}\n",
    "$$\n",
    "\n",
    "where we set $v=0$ since there is no directed transport, just diffusion. We will drop the index $t$ since we are looking for a steady state solution. "
   ]
  },
  {
   "cell_type": "markdown",
   "metadata": {},
   "source": [
    "The fact that the second derivative $\\frac{\\partial^2P(x)}{\\partial x^2}$ is zero mean that the first derivative is constant. \n",
    "\n",
    "$$\n",
    "\\frac{\\partial P(x)}{\\partial x} = \\mathrm{const} = \\alpha\n",
    "$$\n",
    "\n",
    "A constant first derivative implies that the solution is a straight line:\n",
    "\n",
    "$$\n",
    "P(x) = \\alpha x + \\beta\n",
    "$$\n",
    "\n",
    "where $\\alpha$ and $\\beta$ are parameters that need to be determined from the boundary condition."
   ]
  },
  {
   "cell_type": "markdown",
   "metadata": {},
   "source": [
    "In this case, the boundary condition are simply the requirement that $P(x)$ matches the concentration of the reservoir at either end of the pore.\n",
    "\n",
    "$$\n",
    "P(x) = c_l + (x - x_l)\\frac{c_r - c_l}{x_r - x_l} = c_l + (x - x_l)\\frac{\\Delta C}{L}\n",
    "$$\n",
    "\n",
    "where $\\Delta C$ is the concentration difference and $L$ is the length of the pore. "
   ]
  },
  {
   "cell_type": "markdown",
   "metadata": {},
   "source": [
    "So far, we have pretended our problem is one-dimensional and only considered the coordinate that runs through the pore. In reality, the pore is of course three-dimensional and has a cross-sectional area. The quantity we have calculated is therefore a flux density, rather than the total flux and needs to be multiplied by the area $A$.\n",
    "\n",
    "The total flux is hence\n",
    "\n",
    "$$\n",
    "J = -D \\frac{A\\Delta C}{L}\n",
    "$$"
   ]
  },
  {
   "cell_type": "markdown",
   "metadata": {},
   "source": [
    "Let's do a quick check of the dimensions and units:\n",
    "\n",
    " * $D$ has units $\\mu m^2/s$\n",
    " * $A$ is an area with units $\\mu m^2$\n",
    " * $\\Delta C$ is a concentration with units $\\mathrm{stuff}/\\mu m^3$\n",
    " * $L$ is a length $\\mu m$\n",
    " \n",
    "Together, the flux therefore has units $\\mathrm{stuff}/s$, as it should. "
   ]
  },
  {
   "cell_type": "markdown",
   "metadata": {},
   "source": [
    "### Diffusive flux through the nuclear pore\n",
    "\n",
    " * $D = 10\\mu m^2/s$\n",
    " * Diameter $d = 30nm = 0.03\\mu m$. The cross-section $A = \\pi 0.015^2\\mu m^2 = 7\\times 10^{-4}\\mu m ^2$\n",
    " * $\\Delta C = 10^{-6}M$\n",
    " * $L=0.03\\mu m$\n",
    " \n",
    "With these numbers, we expect that the diffusive flux is \n",
    "\n",
    "$$\n",
    "J = 2.3\\times 10^{-7} M \\mu m^3/s\n",
    "$$\n",
    "\n"
   ]
  },
  {
   "cell_type": "markdown",
   "metadata": {},
   "source": [
    "We can turn this into a more intuitive quantity:\n",
    "\n",
    "$$\n",
    "1M = 6\\times 10^{23} \\mathrm{molecules\\; per\\; liter} = 6\\times 10^{8} \\mathrm{molecules\\; per\\; }\\mu m^3\n",
    "$$\n",
    "\n",
    "Hence the flux through the pore is approximately\n",
    "\n",
    "$$\n",
    "J \\approx 140 \\;\\mathrm{molecules}/s\n",
    "$$\n",
    "\n",
    "\n",
    "\n"
   ]
  },
  {
   "cell_type": "markdown",
   "metadata": {},
   "source": [
    "### Dig deeper:\n",
    " * Have a look at the paper by [Ribbeck et at](https://www.ncbi.nlm.nih.gov/pmc/articles/PMC145537/) doi:10.1093/emboj/20.6.1320 who measured transport through the nuclear pore.\n",
    " * How would the expression for the flux look for finite $v>0$ (and hence $r\\neq l$)?"
   ]
  },
  {
   "cell_type": "code",
   "execution_count": null,
   "metadata": {},
   "outputs": [],
   "source": []
  }
 ],
 "metadata": {
  "kernelspec": {
   "display_name": "Python 3 (ipykernel)",
   "language": "python",
   "name": "python3"
  },
  "language_info": {
   "codemirror_mode": {
    "name": "ipython",
    "version": 3
   },
   "file_extension": ".py",
   "mimetype": "text/x-python",
   "name": "python",
   "nbconvert_exporter": "python",
   "pygments_lexer": "ipython3",
   "version": "3.12.1"
  }
 },
 "nbformat": 4,
 "nbformat_minor": 4
}
