{
 "cells": [
  {
   "cell_type": "markdown",
   "metadata": {},
   "source": [
    "# Gene regulation\n",
    "\n",
    "The expression of genes is tightly regulated in space and time. \n",
    " * Transcription factors: proteins that bind to DNA and enhance or suppress expression\n",
    " * Sigma factors (transcription initiation)\n",
    " * Chromatin state: the genome can be packaged away and silenced\n",
    " * DNA modifications: methylation, histone marks\n",
    " * Protein modifications, dimerizations, etc\n",
    "\n",
    "The molecular biology of these process is very complicated and we will focus here on general aspects of the problem."
   ]
  },
  {
   "attachments": {},
   "cell_type": "markdown",
   "metadata": {},
   "source": [
    "## How abundant are transcription factors?\n",
    "\n",
    "![image.png](figures/PBOC_TF_distribution.png)\n",
    "\n",
    "Abundance of transcription factors in E.coli. From bionumbers.org with original data from [Li et al., 2014]. The data are shown as a cumulative distribution, that is the y-axis show the fraction of transcription factors that have an abundance below the value on the x-axis. Cumulative distributions might be a little unfamiliar to read, but have many advantages over classical histograms since they don’t require a choice of binning."
   ]
  },
  {
   "cell_type": "markdown",
   "metadata": {},
   "source": [
    " * Activators: rare, often under 10 copies\n",
    " * Repressors: more common typically 100 copies"
   ]
  },
  {
   "cell_type": "markdown",
   "metadata": {},
   "source": [
    "### Uniqueness of binding site\n",
    "\n",
    "In a random string of ACGT of length one million, every 10-mer of bases will occur once on average. \n",
    "10 bases is also the length of one turn of the DNA double helix and a transcription factor can meaningfully interact with about that many base pairs. \n",
    "Hence transcription factor binding in bacteria is approximately unique. \n",
    "This is reflected in the typical architecture where one, two, or sometimes three transcription factors regulate a gene or operon. \n",
    "\n",
    "In eurkaryotes with 1000-fold larger genomes, TF binding is rarely unique. Instead, regulation is combinatorial with many layers contributing. "
   ]
  },
  {
   "cell_type": "code",
   "execution_count": 1,
   "metadata": {},
   "outputs": [
    {
     "name": "stdout",
     "output_type": "stream",
     "text": [
      "\n",
      "\n",
      "Bacterium\n",
      "\n",
      "number specific of 2-mers in a genome of length 5000000.0: 312500.00\n",
      "number specific of 3-mers in a genome of length 5000000.0: 78125.00\n",
      "number specific of 4-mers in a genome of length 5000000.0: 19531.25\n",
      "number specific of 5-mers in a genome of length 5000000.0: 4882.81\n",
      "number specific of 6-mers in a genome of length 5000000.0: 1220.70\n",
      "number specific of 7-mers in a genome of length 5000000.0: 305.18\n",
      "number specific of 8-mers in a genome of length 5000000.0: 76.29\n",
      "number specific of 9-mers in a genome of length 5000000.0: 19.07\n",
      "number specific of 10-mers in a genome of length 5000000.0: 4.77\n",
      "number specific of 11-mers in a genome of length 5000000.0: 1.19\n",
      "number specific of 12-mers in a genome of length 5000000.0: 0.30\n",
      "\n",
      "\n",
      "Human\n",
      "\n",
      "number specific of 2-mers in a genome of length 3000000000.0: 187500000.00\n",
      "number specific of 4-mers in a genome of length 3000000000.0: 11718750.00\n",
      "number specific of 6-mers in a genome of length 3000000000.0: 732421.88\n",
      "number specific of 8-mers in a genome of length 3000000000.0: 45776.37\n",
      "number specific of 10-mers in a genome of length 3000000000.0: 2861.02\n",
      "number specific of 12-mers in a genome of length 3000000000.0: 178.81\n",
      "number specific of 14-mers in a genome of length 3000000000.0: 11.18\n",
      "number specific of 16-mers in a genome of length 3000000000.0: 0.70\n",
      "number specific of 18-mers in a genome of length 3000000000.0: 0.04\n",
      "number specific of 20-mers in a genome of length 3000000000.0: 0.00\n",
      "number specific of 22-mers in a genome of length 3000000000.0: 0.00\n"
     ]
    }
   ],
   "source": [
    "# Bacterium\n",
    "print(\"\\n\\nBacterium\\n\")\n",
    "L = 5e6\n",
    "for k in range(2,13):\n",
    "    print(f\"number specific of {k}-mers in a genome of length {L}: {L/4**k:1.2f}\")\n",
    "    \n",
    "# human\n",
    "print(\"\\n\\nHuman\\n\")\n",
    "L = 3e9\n",
    "for k in range(2,24,2):\n",
    "    print(f\"number specific of {k}-mers in a genome of length {L}: {L/4**k:1.2f}\")\n"
   ]
  },
  {
   "cell_type": "code",
   "execution_count": null,
   "metadata": {},
   "outputs": [],
   "source": []
  },
  {
   "cell_type": "code",
   "execution_count": null,
   "metadata": {},
   "outputs": [],
   "source": []
  }
 ],
 "metadata": {
  "kernelspec": {
   "display_name": "Python 3 (ipykernel)",
   "language": "python",
   "name": "python3"
  },
  "language_info": {
   "codemirror_mode": {
    "name": "ipython",
    "version": 3
   },
   "file_extension": ".py",
   "mimetype": "text/x-python",
   "name": "python",
   "nbconvert_exporter": "python",
   "pygments_lexer": "ipython3",
   "version": "3.12.1"
  }
 },
 "nbformat": 4,
 "nbformat_minor": 4
}
