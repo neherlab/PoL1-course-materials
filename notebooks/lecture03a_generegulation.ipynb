{
 "cells": [
  {
   "cell_type": "markdown",
   "metadata": {},
   "source": [
    "# Gene regulation\n",
    "\n",
    "The expression of genes is tightly regulated in space and time. \n",
    " * Transcription factors: proteins that bind to DNA and enhance or suppress expression\n",
    " * Sigma factors (transcription initiation)\n",
    " * Chromatin state: the genome can be packaged away and silenced\n",
    " * DNA modifications: methylation, histone marks\n",
    " * Protein modifications, dimerizations, etc\n",
    "\n",
    "The molecular biology of these process is very complicated and we will focus here on general aspects of the problem."
   ]
  },
  {
   "attachments": {},
   "cell_type": "markdown",
   "metadata": {},
   "source": [
    "### Typical cartoon of gene regulation\n",
    "\n",
    "![gene_regulation](figures/trp_operon_libretexts.jpg)\n",
    "\n",
    "source: [bio.libretexts.org/Introductory_and_General_Biology](https://bio.libretexts.org/Bookshelves/Introductory_and_General_Biology/General_Biology_1e_(OpenStax)/3%3A_Genetics/16%3A_Gene_Expression/16.2%3A_Prokaryotic_Gene_Regulation)"
   ]
  },
  {
   "cell_type": "markdown",
   "metadata": {},
   "source": []
  },
  {
   "cell_type": "markdown",
   "metadata": {},
   "source": [
    "### Uniqueness of binding site\n",
    "\n",
    "In a random string of ACGT of length one million, every 10-mer of bases will occur once on average. \n",
    "10 bases is also the length of one turn of the DNA double helix and a transcription factor can meaningfully interact with about that many base pairs. \n",
    "Hence transcription factor binding in bacteria is approximately unique. \n",
    "This is reflected in the typical architecture where one, two, or sometimes three transcription factors regulate a gene or operon. \n",
    "\n",
    "In eurkaryotes with 1000-fold larger genomes, TF binding is rarely unique. Instead, regulation is combinatorial with many layers contributing. "
   ]
  },
  {
   "cell_type": "code",
   "execution_count": 1,
   "metadata": {},
   "outputs": [
    {
     "name": "stdout",
     "output_type": "stream",
     "text": [
      "\n",
      "\n",
      "Bacterium\n",
      "\n",
      "number specific of 2-mers in a genome of length 5000000.0: 312500.00\n",
      "number specific of 3-mers in a genome of length 5000000.0: 78125.00\n",
      "number specific of 4-mers in a genome of length 5000000.0: 19531.25\n",
      "number specific of 5-mers in a genome of length 5000000.0: 4882.81\n",
      "number specific of 6-mers in a genome of length 5000000.0: 1220.70\n",
      "number specific of 7-mers in a genome of length 5000000.0: 305.18\n",
      "number specific of 8-mers in a genome of length 5000000.0: 76.29\n",
      "number specific of 9-mers in a genome of length 5000000.0: 19.07\n",
      "number specific of 10-mers in a genome of length 5000000.0: 4.77\n",
      "number specific of 11-mers in a genome of length 5000000.0: 1.19\n",
      "number specific of 12-mers in a genome of length 5000000.0: 0.30\n",
      "\n",
      "\n",
      "Human\n",
      "\n",
      "number specific of 2-mers in a genome of length 3000000000.0: 187500000.00\n",
      "number specific of 4-mers in a genome of length 3000000000.0: 11718750.00\n",
      "number specific of 6-mers in a genome of length 3000000000.0: 732421.88\n",
      "number specific of 8-mers in a genome of length 3000000000.0: 45776.37\n",
      "number specific of 10-mers in a genome of length 3000000000.0: 2861.02\n",
      "number specific of 12-mers in a genome of length 3000000000.0: 178.81\n",
      "number specific of 14-mers in a genome of length 3000000000.0: 11.18\n",
      "number specific of 16-mers in a genome of length 3000000000.0: 0.70\n",
      "number specific of 18-mers in a genome of length 3000000000.0: 0.04\n",
      "number specific of 20-mers in a genome of length 3000000000.0: 0.00\n",
      "number specific of 22-mers in a genome of length 3000000000.0: 0.00\n"
     ]
    }
   ],
   "source": [
    "# Bacterium\n",
    "print(\"\\n\\nBacterium\\n\")\n",
    "L = 5e6\n",
    "for k in range(2,13):\n",
    "    print(f\"number specific of {k}-mers in a genome of length {L}: {L/4**k:1.2f}\")\n",
    "    \n",
    "# human\n",
    "print(\"\\n\\nHuman\\n\")\n",
    "L = 3e9\n",
    "for k in range(2,24,2):\n",
    "    print(f\"number specific of {k}-mers in a genome of length {L}: {L/4**k:1.2f}\")\n"
   ]
  },
  {
   "cell_type": "markdown",
   "metadata": {},
   "source": [
    "## Number of unique k-mers in the E. coli genome\n",
    "\n",
    "The file `ecoli_genome.fasta` contains the genome of the common laboratory strain K12 (MG1655). The following code will load this text file and determine the number of unique k-mers (words of length k). The file in in `fasta` format, meaning it is of the form:\n",
    "```\n",
    ">NZ_LR881938.1 Escherichia coli str. K-12 substr. MG1655 strain K-12 chromosome MG1655, complete sequence\n",
    "AGCTTTTCATTCTGACTGCAACGGGCAATATGTCTCTGTGTGGATTAAAAAAAGAGTGTCTGATAGCAGC\n",
    "TTCTGAACTGGTTACCTGCCGTGAGTAAATTAAAATTTTATTGACTTAGGTCACTAAATACTTTAACCAA\n",
    "TATAGGCATAGCGCACAGACAGATAAAAATTACAGAGTACACAACATCCATGAAACGCATTAGCACCACC\n",
    "....\n",
    "```\n",
    "The first line is called `header` and gives the name of the strain. This is follwed by the genome, which is broken into many lines. "
   ]
  },
  {
   "cell_type": "code",
   "execution_count": 2,
   "metadata": {},
   "outputs": [
    {
     "name": "stdout",
     "output_type": "stream",
     "text": [
      "Genome length: 4625146\n",
      "first 10 bases: AGCTTTTCAT\n"
     ]
    }
   ],
   "source": [
    "fname = 'ecoli_genome.fasta'  # define the filename\n",
    "genome_parts = []  # empty list to accumulate the genome in\n",
    "\n",
    "with open(fname) as input_data:\n",
    "    for line in input_data:\n",
    "        if line[0] in 'ACGT': # only take lines that start with ACGT, ignore the header\n",
    "            genome_parts.append(line.strip())\n",
    "\n",
    "# concatenate the parts\n",
    "genome = ''.join(genome_parts)\n",
    "print('Genome length:', len(genome))\n",
    "print('first 10 bases:', genome[:10])\n"
   ]
  },
  {
   "cell_type": "code",
   "execution_count": 11,
   "metadata": {},
   "outputs": [
    {
     "name": "stdout",
     "output_type": "stream",
     "text": [
      "found 256 out of a maximally possible 256\n"
     ]
    }
   ],
   "source": [
    "all_kmers = set()\n",
    "k = 4\n",
    "for i in range(len(genome)-k):\n",
    "    all_kmers.add(genome[i:i+k])\n",
    "\n",
    "print(f\"found {len(all_kmers)} out of a maximally possible {4**k}\")"
   ]
  },
  {
   "cell_type": "code",
   "execution_count": null,
   "metadata": {},
   "outputs": [],
   "source": []
  }
 ],
 "metadata": {
  "kernelspec": {
   "display_name": "Python 3 (ipykernel)",
   "language": "python",
   "name": "python3"
  },
  "language_info": {
   "codemirror_mode": {
    "name": "ipython",
    "version": 3
   },
   "file_extension": ".py",
   "mimetype": "text/x-python",
   "name": "python",
   "nbconvert_exporter": "python",
   "pygments_lexer": "ipython3",
   "version": "3.12.1"
  }
 },
 "nbformat": 4,
 "nbformat_minor": 4
}
